{
 "cells": [
  {
   "cell_type": "markdown",
   "id": "04705c1a-9c03-436e-9dd0-3c80d1764925",
   "metadata": {},
   "source": [
    "## Cache"
   ]
  },
  {
   "cell_type": "code",
   "execution_count": null,
   "id": "10db677f-6b18-4530-b4a5-3e4d3643dfe1",
   "metadata": {},
   "outputs": [],
   "source": []
  },
  {
   "cell_type": "code",
   "execution_count": 11,
   "id": "f7fbcb57-1950-4cc7-9f9a-42abd5803e70",
   "metadata": {},
   "outputs": [],
   "source": [
    "import os\n",
    "import langchain\n",
    "from langchain_openai import OpenAI\n",
    "from langchain.cache import InMemoryCache\n",
    "from dotenv import load_dotenv"
   ]
  },
  {
   "cell_type": "code",
   "execution_count": 12,
   "id": "a9250c26-e5a0-4e96-8cb7-9be8cd9fa75b",
   "metadata": {},
   "outputs": [],
   "source": [
    "langchain.llm_cache = InMemoryCache()\n",
    "load_dotenv()\n",
    "open_api_key = os.getenv(\"OPEN_API_KEY\")"
   ]
  },
  {
   "cell_type": "code",
   "execution_count": 14,
   "id": "caeac658-84f5-4322-bae9-7c894c65037a",
   "metadata": {},
   "outputs": [
    {
     "name": "stdout",
     "output_type": "stream",
     "text": [
      "First call: \n",
      "\n",
      "Why did the programming language go on a diet?\n",
      "\n",
      "Because it wanted to be a lean, mean LangChain machine!\n",
      "Second call (cached): \n",
      "\n",
      "Why did the programming language go on a diet?\n",
      "\n",
      "Because it wanted to be a lean, mean LangChain machine!\n"
     ]
    }
   ],
   "source": [
    "# Enable in-memory caching\n",
    "langchain.llm_cache = InMemoryCache()\n",
    "\n",
    "# Initialize an LLM (replace with your API key if needed)\n",
    "llm = OpenAI(model=\"gpt-3.5-turbo-instruct\", temperature=0, api_key=open_api_key)\n",
    "\n",
    "# First call → will query the API\n",
    "response1 = llm.invoke(\"Tell me a joke about LangChain\")\n",
    "print(\"First call:\", response1)\n",
    "\n",
    "# Second call with the same prompt → served from cache\n",
    "response2 = llm.invoke(\"Tell me a joke about LangChain\")\n",
    "print(\"Second call (cached):\", response2)"
   ]
  },
  {
   "cell_type": "markdown",
   "id": "91ad0bf0-77da-48d1-b625-ab0746c5cd47",
   "metadata": {},
   "source": [
    "## Prompttemplate\n",
    "* Purpose: Used for text-based LLMs (completion models).\n",
    "* Output: A single string prompt.\n",
    "* Use case: When you want to generate a plain text prompt (no roles like “system” or “user”)."
   ]
  },
  {
   "cell_type": "code",
   "execution_count": 1,
   "id": "648b224d-ed83-4e1c-82d4-bd85a09053cc",
   "metadata": {},
   "outputs": [
    {
     "name": "stdout",
     "output_type": "stream",
     "text": [
      "What are three benefits of using LangChain?\n"
     ]
    }
   ],
   "source": [
    "from langchain.prompts import PromptTemplate\n",
    "\n",
    "# Single input variable: \"product\"\n",
    "single_input_template = PromptTemplate(\n",
    "    input_variables=[\"product\"],\n",
    "    template=\"What are three benefits of using {product}?\"\n",
    ")\n",
    "\n",
    "# Format with input\n",
    "formatted_prompt = single_input_template.format(product=\"LangChain\")\n",
    "print(formatted_prompt)"
   ]
  },
  {
   "cell_type": "code",
   "execution_count": 3,
   "id": "d8bec3e5-44cc-426b-a4dc-b93ffab3cad5",
   "metadata": {},
   "outputs": [
    {
     "name": "stdout",
     "output_type": "stream",
     "text": [
      "Write a positive review about LangChain.\n"
     ]
    }
   ],
   "source": [
    "from langchain.prompts import PromptTemplate\n",
    "\n",
    "# Multiple input variables: \"adjective\" and \"product\"\n",
    "multi_input_template = PromptTemplate(\n",
    "    input_variables=[\"adjective\", \"product\"],\n",
    "    template=\"Write a {adjective} review about {product}.\"\n",
    ")\n",
    "\n",
    "# Format with inputs\n",
    "formatted_prompt = multi_input_template.format(adjective=\"positive\", product=\"LangChain\")\n",
    "print(formatted_prompt)"
   ]
  },
  {
   "cell_type": "markdown",
   "id": "5d3c2953-d90e-4459-8991-454760835fa7",
   "metadata": {},
   "source": [
    "## ChatPromptTemplate\n",
    "* Purpose: Used for chat-based LLMs (like OpenAI’s GPT-4, GPT-4o, GPT-3.5).\n",
    "* Output: A list of message objects (with roles: system, human, ai, etc.).\n",
    "* Use case: When you need structured multi-role prompts (system instructions + user queries)."
   ]
  },
  {
   "cell_type": "code",
   "execution_count": 15,
   "id": "f2c0cae8-c102-4e0e-ad45-d7f2d5cebc3f",
   "metadata": {},
   "outputs": [],
   "source": [
    "from langchain.prompts import ChatPromptTemplate\n",
    "from langchain_openai import ChatOpenAI"
   ]
  },
  {
   "cell_type": "code",
   "execution_count": 16,
   "id": "cc6df6e4-f744-4aa4-891f-7abd27a6d223",
   "metadata": {},
   "outputs": [],
   "source": [
    "load_dotenv()\n",
    "open_api_key = os.getenv(\"OPEN_API_KEY\")"
   ]
  },
  {
   "cell_type": "code",
   "execution_count": 17,
   "id": "f2382af3-34a3-4466-9beb-08d0b225c696",
   "metadata": {},
   "outputs": [
    {
     "name": "stdout",
     "output_type": "stream",
     "text": [
      "LangChain provides abstractions for prompts, chains, agents, memory, and integrates with many external tools.\n"
     ]
    }
   ],
   "source": [
    "# Document as a string\n",
    "document_text = \"\"\"\n",
    "LangChain is a framework for developing applications powered by language models.\n",
    "It provides abstractions for prompts, chains, agents, memory, and integrates with many external tools.\n",
    "\"\"\"\n",
    "\n",
    "# Define the chat prompt template with system + human messages\n",
    "chat_prompt = ChatPromptTemplate.from_messages([\n",
    "    (\"system\", \"You are a helpful assistant. Use the provided document to answer questions.\"),\n",
    "    (\"human\", \"Here is the document:\\n{document}\\n\\nQuestion: {question}\")\n",
    "])\n",
    "\n",
    "# Format the prompt with input variables\n",
    "messages = chat_prompt.format_messages(\n",
    "    document=document_text,\n",
    "    question=\"What does LangChain provide?\"\n",
    ")\n",
    "\n",
    "# Initialize the model\n",
    "chat = ChatOpenAI(model=\"gpt-4o-mini\", temperature=0, api_key=open_api_key)\n",
    "\n",
    "# Get the response\n",
    "response = chat.invoke(messages)\n",
    "print(response.content)\n"
   ]
  },
  {
   "cell_type": "code",
   "execution_count": 19,
   "id": "1f6eeebe-adb3-4383-930c-ce3408dd5ac2",
   "metadata": {},
   "outputs": [],
   "source": [
    "from langchain.prompts import (\n",
    "    ChatPromptTemplate,\n",
    "    SystemMessagePromptTemplate,\n",
    "    HumanMessagePromptTemplate\n",
    ")"
   ]
  },
  {
   "cell_type": "code",
   "execution_count": 20,
   "id": "bb266d87-9e17-4f3f-9749-54179678b6d0",
   "metadata": {},
   "outputs": [
    {
     "name": "stdout",
     "output_type": "stream",
     "text": [
      "LangChain provides abstractions for prompts, chains, agents, memory, and integrates with many external tools.\n"
     ]
    }
   ],
   "source": [
    "# Document string\n",
    "document_text = \"\"\"\n",
    "LangChain is a framework for developing applications powered by language models.\n",
    "It provides abstractions for prompts, chains, agents, memory, and integrates with many external tools.\n",
    "\"\"\"\n",
    "\n",
    "# Create system and human message prompt templates\n",
    "system_prompt = SystemMessagePromptTemplate.from_template(\n",
    "    \"You are a helpful assistant. Use the provided document to answer questions.\"\n",
    ")\n",
    "\n",
    "human_prompt = HumanMessagePromptTemplate.from_template(\n",
    "    \"Here is the document:\\n{document}\\n\\nQuestion: {question}\"\n",
    ")\n",
    "\n",
    "# Build the chat prompt template\n",
    "chat_prompt = ChatPromptTemplate.from_messages([system_prompt, human_prompt])\n",
    "\n",
    "# Format with inputs\n",
    "messages = chat_prompt.format_messages(\n",
    "    document=document_text,\n",
    "    question=\"What does LangChain provide?\"\n",
    ")\n",
    "\n",
    "# Initialize LLM\n",
    "chat = ChatOpenAI(model=\"gpt-4o-mini\", temperature=0,  api_key=open_api_key)\n",
    "\n",
    "# Invoke the model\n",
    "response = chat.invoke(messages)\n",
    "print(response.content)"
   ]
  },
  {
   "cell_type": "code",
   "execution_count": null,
   "id": "1ebddb8b-e3f6-4345-afdf-ffe475fe92d6",
   "metadata": {},
   "outputs": [],
   "source": []
  }
 ],
 "metadata": {
  "kernelspec": {
   "display_name": "Python 3 (ipykernel)",
   "language": "python",
   "name": "python3"
  },
  "language_info": {
   "codemirror_mode": {
    "name": "ipython",
    "version": 3
   },
   "file_extension": ".py",
   "mimetype": "text/x-python",
   "name": "python",
   "nbconvert_exporter": "python",
   "pygments_lexer": "ipython3",
   "version": "3.11.7"
  }
 },
 "nbformat": 4,
 "nbformat_minor": 5
}
