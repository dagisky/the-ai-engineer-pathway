{
 "cells": [
  {
   "cell_type": "markdown",
   "id": "ffeb02fd-2991-4fe1-9121-951afb01084b",
   "metadata": {},
   "source": [
    "# Agents\n",
    "In LangChain, an Agent is a higher-level abstraction that allows large language models (LLMs) to make decisions about what actions to take, in what order, and when to stop. Unlike a simple chain or pipeline—where the sequence of steps is fixed—agents introduce dynamic decision-making into the workflow.\n",
    "\n",
    "#### Example\n",
    "User asks a question: “What is the square root of the population of France?”\n",
    "\n",
    "1. The LLM (as an agent) interprets the query.\n",
    "2. It decides:\n",
    "    * Call the “Population API” tool → retrieves population.\n",
    "    * Call the “Calculator” tool → computes square root.\n",
    "3. Returns the final result to the user.\n",
    "\n",
    "## Common Agent Types in LangChain\n",
    "\n",
    "* **Zero-shot ReAct Agent**\n",
    "* **Conversational Agent**\n",
    "* **Plan-and-Execute Agent**"
   ]
  },
  {
   "cell_type": "markdown",
   "id": "6fc03757-be72-4fbc-9018-179c4800303b",
   "metadata": {},
   "source": [
    "### Zero-shot ReAct Agent\n",
    "Uses the ReAct (Reason + Act) pattern without examples. The model reasons about the problem and chooses tools step by step."
   ]
  },
  {
   "cell_type": "markdown",
   "id": "330ee497-e693-46ce-8177-493f8bf8ff4e",
   "metadata": {},
   "source": [
    "#### Requirements\n",
    "* serpapi: http://serpapi.com/ (load SERPAPI_API_KEY on env)\n",
    "* install google-search-results>=1.8.2 and numexpr>=2.7.3"
   ]
  },
  {
   "cell_type": "code",
   "execution_count": 1,
   "id": "45829598-8198-47d6-a863-751bd378fddd",
   "metadata": {},
   "outputs": [],
   "source": [
    "import os, json\n",
    "from dotenv import load_dotenv\n",
    "from langchain_openai import ChatOpenAI\n",
    "from langchain.agents import initialize_agent, AgentType, load_tools"
   ]
  },
  {
   "cell_type": "code",
   "execution_count": 2,
   "id": "5c5b5ea2-49e4-4fa6-9450-d0a03c1049e1",
   "metadata": {},
   "outputs": [],
   "source": [
    "load_dotenv()\n",
    "llm = ChatOpenAI(model=\"gpt-4o\", temperature=0, api_key=os.getenv(\"OPEN_API_KEY\"))"
   ]
  },
  {
   "cell_type": "code",
   "execution_count": 3,
   "id": "9ea4c5ee-7f97-44c1-9ebe-515516963baf",
   "metadata": {},
   "outputs": [
    {
     "name": "stderr",
     "output_type": "stream",
     "text": [
      "C:\\Users\\Dagi\\AppData\\Local\\Temp\\ipykernel_52196\\3208038635.py:5: LangChainDeprecationWarning: LangChain agents will continue to be supported, but it is recommended for new use cases to be built with LangGraph. LangGraph offers a more flexible and full-featured framework for building agents, including support for tool-calling, persistence of state, and human-in-the-loop workflows. For details, refer to the `LangGraph documentation <https://langchain-ai.github.io/langgraph/>`_ as well as guides for `Migrating from AgentExecutor <https://python.langchain.com/docs/how_to/migrate_agent/>`_ and LangGraph's `Pre-built ReAct agent <https://langchain-ai.github.io/langgraph/how-tos/create-react-agent/>`_.\n",
      "  agent = initialize_agent(\n",
      "C:\\Users\\Dagi\\AppData\\Local\\Temp\\ipykernel_52196\\3208038635.py:13: LangChainDeprecationWarning: The method `Chain.run` was deprecated in langchain 0.1.0 and will be removed in 1.0. Use :meth:`~invoke` instead.\n",
      "  agent.run(\"What is the square root of the 2022 population of France?\")\n"
     ]
    },
    {
     "name": "stdout",
     "output_type": "stream",
     "text": [
      "\n",
      "\n",
      "\u001b[1m> Entering new AgentExecutor chain...\u001b[0m\n",
      "\u001b[32;1m\u001b[1;3mTo find the square root of the 2022 population of France, I first need to know the population of France in 2022. I will search for this information.\n",
      "\n",
      "Action: Search\n",
      "Action Input: \"France population 2022\"\u001b[0m\n",
      "Observation: \u001b[36;1m\u001b[1;3m{'type': 'population_result', 'population': '68.07 million', 'year': '2022'}\u001b[0m\n",
      "Thought:\u001b[32;1m\u001b[1;3mThe population of France in 2022 is 68.07 million. To find the square root, I will calculate the square root of 68.07 million.\n",
      "\n",
      "Action: Calculator\n",
      "Action Input: 68.07 * 10**6\u001b[0m\n",
      "Observation: \u001b[33;1m\u001b[1;3mAnswer: 68070000.0\u001b[0m\n",
      "Thought:\u001b[32;1m\u001b[1;3mI have the population of France in 2022 as 68,070,000. Now, I will calculate the square root of this number.\n",
      "\n",
      "Action: Calculator\n",
      "Action Input: 68070000.0 ** 0.5\u001b[0m\n",
      "Observation: \u001b[33;1m\u001b[1;3mAnswer: 8250.454532933321\u001b[0m\n",
      "Thought:\u001b[32;1m\u001b[1;3mI now know the final answer. The square root of the 2022 population of France is approximately 8,250.45. \n",
      "\n",
      "Final Answer: The square root of the 2022 population of France is approximately 8,250.45.\u001b[0m\n",
      "\n",
      "\u001b[1m> Finished chain.\u001b[0m\n"
     ]
    },
    {
     "data": {
      "text/plain": [
       "'The square root of the 2022 population of France is approximately 8,250.45.'"
      ]
     },
     "execution_count": 3,
     "metadata": {},
     "output_type": "execute_result"
    }
   ],
   "source": [
    "# Tools (e.g., search & calculator)\n",
    "tools = load_tools([\"serpapi\", \"llm-math\"], llm=llm)\n",
    "\n",
    "# Initialize agent\n",
    "agent = initialize_agent(\n",
    "    tools=tools,\n",
    "    llm=llm,\n",
    "    agent=AgentType.ZERO_SHOT_REACT_DESCRIPTION,\n",
    "    verbose=True\n",
    ")\n",
    "\n",
    "# Run agent\n",
    "agent.run(\"What is the square root of the 2022 population of France?\")\n"
   ]
  },
  {
   "cell_type": "code",
   "execution_count": null,
   "id": "aee85736-ca54-44ef-ad56-0bf3a7f05d70",
   "metadata": {},
   "outputs": [],
   "source": []
  }
 ],
 "metadata": {
  "kernelspec": {
   "display_name": "Python 3 (ipykernel)",
   "language": "python",
   "name": "python3"
  },
  "language_info": {
   "codemirror_mode": {
    "name": "ipython",
    "version": 3
   },
   "file_extension": ".py",
   "mimetype": "text/x-python",
   "name": "python",
   "nbconvert_exporter": "python",
   "pygments_lexer": "ipython3",
   "version": "3.11.7"
  }
 },
 "nbformat": 4,
 "nbformat_minor": 5
}
