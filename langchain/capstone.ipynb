{
 "cells": [
  {
   "cell_type": "code",
   "execution_count": null,
   "id": "b30f177a-821c-483f-b5e7-090c2237acba",
   "metadata": {},
   "outputs": [],
   "source": []
  },
  {
   "cell_type": "code",
   "execution_count": null,
   "id": "ddea2528-f299-4e16-ad89-65fae1cf21fb",
   "metadata": {},
   "outputs": [],
   "source": [
    "from langchain.prompts import (\n",
    "    ChatPromptTemplate,\n",
    "    SystemMessagePromptTemplate,\n",
    "    HumanMessagePromptTemplate,\n",
    ")\n",
    "import random"
   ]
  },
  {
   "cell_type": "code",
   "execution_count": null,
   "id": "08615586-2b6c-4fda-bc0c-61636fe0e382",
   "metadata": {},
   "outputs": [],
   "source": [
    "def play_rule_master_game():\n",
    "    \"\"\"\n",
    "    This game simulates the \"Rule Master\" for a few-shot learning demonstration.\n",
    "    The user acts as the \"Rule Detective\" to guess a hidden rule based on examples.\n",
    "    \"\"\"\n",
    "    # 1. Define the possible rules and their examples\n",
    "    rules_data = [\n",
    "        {\n",
    "            \"rule\": \"All items are round.\",\n",
    "            \"examples\": [\"ball\", \"orange\", \"moon\"],\n",
    "            \"non_examples\": [\"book\", \"chair\", \"pencil\"]\n",
    "        },\n",
    "        {\n",
    "            \"rule\": \"All items can be found in a kitchen.\",\n",
    "            \"examples\": [\"spoon\", \"bowl\", \"refrigerator\"],\n",
    "            \"non_examples\": [\"car\", \"tree\", \"shoe\"]\n",
    "        },\n",
    "        {\n",
    "            \"rule\": \"All items are made of metal.\",\n",
    "            \"examples\": [\"coin\", \"key\", \"wrench\"],\n",
    "            \"non_examples\": [\"grape\", \"plastic bottle\", \"cloud\"]\n",
    "        }\n",
    "    ]\n",
    "\n",
    "    # 2. Randomly select a secret rule for the game\n",
    "    secret_rule_data = random.choice(rules_data)\n",
    "    secret_rule = secret_rule_data[\"rule\"]\n",
    "    few_shot_examples = secret_rule_data[\"examples\"]\n",
    "    \n",
    "    print(\"Welcome to The Rule Master Game!\")\n",
    "    print(\"I have a secret rule in mind. Your job is to figure it out.\")\n",
    "    print(\"-\" * 40)\n",
    "    \n",
    "    # 3. Present the System Prompt (The Game Rules)\n",
    "    system_message = SystemMessagePromptTemplate.from_template(\n",
    "        \"You are an expert logician and a brilliant detective. Your task is to identify a secret rule that I have in my mind. I will give you a few examples of items that follow this rule, and then I will ask you about other items. Your final goal is to guess the rule based on the examples and our conversation.\"\n",
    "    )\n",
    "    print(f\"**System Prompt:**\\n{system_message.prompt.template}\\n\")\n",
    "\n",
    "    # 4. Present the Few-Shot Examples (The Training Data)\n",
    "    print(\"**Few-Shot Examples:**\")\n",
    "    for item in few_shot_examples:\n",
    "        human_message = HumanMessagePromptTemplate.from_template(f\"A **{item}** follows the rule.\")\n",
    "        print(f\" - {human_message.prompt.template}\")\n",
    "    print(\"\\n\" + \"-\" * 40)\n",
    "\n",
    "    # 5. The Conversation Loop (Inference)\n",
    "    print(\"Let the guessing begin!\")\n",
    "    print(\"Type an item to ask if it follows the rule. Type 'guess' to make your final guess.\")\n",
    "    \n",
    "    while True:\n",
    "        user_input = input(\"\\nYour item or action: \").strip().lower()\n",
    "\n",
    "        if user_input == 'guess':\n",
    "            final_guess = input(\"What is your final guess for the rule? \")\n",
    "            if final_guess.strip().lower() == secret_rule.strip().lower():\n",
    "                print(\"\\nCongratulations! You are a master detective! You guessed the rule correctly.\")\n",
    "            else:\n",
    "                print(\"\\nThat's a good guess, but it's not the secret rule. The rule was:\")\n",
    "                print(f\"**{secret_rule}**\")\n",
    "            break\n",
    "\n",
    "        # Check if the user's item follows the rule\n",
    "        if user_input in secret_rule_data[\"examples\"] or user_input in secret_rule_data[\"non_examples\"]:\n",
    "            if user_input in secret_rule_data[\"examples\"]:\n",
    "                print(f\"My answer is: Yes, a **{user_input}** follows the rule.\")\n",
    "            else:\n",
    "                print(f\"My answer is: No, a **{user_input}** does not follow the rule.\")\n",
    "        else:\n",
    "            print(\"That item is not in my knowledge base. Please try another one.\")\n"
   ]
  },
  {
   "cell_type": "code",
   "execution_count": 1,
   "id": "a1c65a8f-f8bf-40ba-9cb7-2235db29f52e",
   "metadata": {},
   "outputs": [
    {
     "ename": "NameError",
     "evalue": "name 'play_rule_master_game' is not defined",
     "output_type": "error",
     "traceback": [
      "\u001b[31m---------------------------------------------------------------------------\u001b[39m",
      "\u001b[31mNameError\u001b[39m                                 Traceback (most recent call last)",
      "\u001b[36mCell\u001b[39m\u001b[36m \u001b[39m\u001b[32mIn[1]\u001b[39m\u001b[32m, line 1\u001b[39m\n\u001b[32m----> \u001b[39m\u001b[32m1\u001b[39m \u001b[43mplay_rule_master_game\u001b[49m()\n",
      "\u001b[31mNameError\u001b[39m: name 'play_rule_master_game' is not defined"
     ]
    }
   ],
   "source": [
    "play_rule_master_game()"
   ]
  },
  {
   "cell_type": "code",
   "execution_count": null,
   "id": "3b8bb8df-433a-454c-a0e0-1d9faecd1a51",
   "metadata": {},
   "outputs": [],
   "source": []
  }
 ],
 "metadata": {
  "kernelspec": {
   "display_name": "Python 3 (ipykernel)",
   "language": "python",
   "name": "python3"
  },
  "language_info": {
   "codemirror_mode": {
    "name": "ipython",
    "version": 3
   },
   "file_extension": ".py",
   "mimetype": "text/x-python",
   "name": "python",
   "nbconvert_exporter": "python",
   "pygments_lexer": "ipython3",
   "version": "3.11.7"
  }
 },
 "nbformat": 4,
 "nbformat_minor": 5
}
