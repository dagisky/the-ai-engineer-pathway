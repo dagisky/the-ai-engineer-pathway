{
 "cells": [
  {
   "cell_type": "markdown",
   "id": "38b1bac4-52b0-402b-8360-1d2ed4edb506",
   "metadata": {},
   "source": [
    "Backpropagation is the core algorithm used to train neural networks. Its main goal is to minimize the error (loss) by adjusting the network’s weights through gradient descent."
   ]
  },
  {
   "cell_type": "code",
   "execution_count": null,
   "id": "b7296cc6-fd95-40fa-a250-e06106d6b75a",
   "metadata": {},
   "outputs": [],
   "source": []
  }
 ],
 "metadata": {
  "kernelspec": {
   "display_name": "Python 3 (ipykernel)",
   "language": "python",
   "name": "python3"
  },
  "language_info": {
   "codemirror_mode": {
    "name": "ipython",
    "version": 3
   },
   "file_extension": ".py",
   "mimetype": "text/x-python",
   "name": "python",
   "nbconvert_exporter": "python",
   "pygments_lexer": "ipython3",
   "version": "3.11.7"
  }
 },
 "nbformat": 4,
 "nbformat_minor": 5
}
