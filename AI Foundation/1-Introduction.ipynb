{
 "cells": [
  {
   "cell_type": "code",
   "execution_count": 1,
   "id": "73629667-07f5-427e-830e-7af7014b7a34",
   "metadata": {},
   "outputs": [],
   "source": [
    "import numpy as np\n",
    "import matplotlib.pyplot as plt\n",
    "from ipywidgets import FloatSlider, IntSlider, VBox, HBox, Button, Layout, Dropdown, interactive_output, Output\n",
    "from IPython.display import display, clear_output"
   ]
  },
  {
   "cell_type": "code",
   "execution_count": 3,
   "id": "7239520c-44c2-46ff-824a-22b79a708317",
   "metadata": {},
   "outputs": [
    {
     "name": "stdout",
     "output_type": "stream",
     "text": [
      "Note: you may need to restart the kernel to use updated packages.\n"
     ]
    }
   ],
   "source": [
    "%pip install -q ipywidgets ipympl"
   ]
  },
  {
   "cell_type": "code",
   "execution_count": 12,
   "id": "63449334-e1c4-477d-a194-188d5106590c",
   "metadata": {},
   "outputs": [
    {
     "data": {
      "application/vnd.jupyter.widget-view+json": {
       "model_id": "19b22ebd3f3641b4bd01e09c339a17f1",
       "version_major": 2,
       "version_minor": 0
      },
      "text/plain": [
       "VBox(children=(HBox(children=(FloatSlider(value=1.0, description='w', layout=Layout(width='300px'), max=10.0, …"
      ]
     },
     "metadata": {},
     "output_type": "display_data"
    }
   ],
   "source": [
    "# --- Data generation (regression) ---\n",
    "def make_data(n_samples=120, sep=2.5, seed=0, true_w=2.0, true_b=0.5, noise_std=1.0):\n",
    "    \"\"\"\n",
    "    Create a simple 1D regression dataset:\n",
    "      x ~ Uniform(-sep, sep)\n",
    "      y = true_w * x + true_b + N(0, noise_std^2)\n",
    "    'sep' controls the spread/range of x (wider = more spread).\n",
    "    \"\"\"\n",
    "    rng = np.random.default_rng(seed)\n",
    "    x = rng.uniform(-sep, sep, size=n_samples)\n",
    "    y = true_w * x + true_b + rng.normal(0.0, noise_std, size=n_samples)\n",
    "    return x, y\n",
    "\n",
    "# --- Initial dataset ---\n",
    "x, y = make_data(sep=2.5, seed=0)\n",
    "\n",
    "# --- Widgets ---\n",
    "w    = FloatSlider(value=1.0, min=-10, max=10, step=0.01, description=\"w\",   layout=Layout(width='300px'), continuous_update=True)\n",
    "b    = FloatSlider(value=0.0, min=-10, max=10, step=0.01, description=\"b\",   layout=Layout(width='300px'), continuous_update=True)\n",
    "sep  = FloatSlider(value=2.5, min=0.5, max=8.0, step=0.1, description=\"sep\", layout=Layout(width='300px'), continuous_update=False)\n",
    "seed = IntSlider(value=0, min=0, max=9999, step=1, description=\"seed\",       layout=Layout(width='300px'), continuous_update=False)\n",
    "regen = Button(description=\"Regenerate data\", layout=Layout(width='160px'))\n",
    "\n",
    "out = Output()\n",
    "\n",
    "def draw(w_val, b_val):\n",
    "    \"\"\"Rebuild the figure each time to avoid backend issues.\"\"\"\n",
    "    with out:\n",
    "        out.clear_output(wait=True)\n",
    "        fig, ax = plt.subplots(figsize=(7.5, 4.5))\n",
    "\n",
    "        # Predictions and metric\n",
    "        yhat = w_val * x + b_val\n",
    "        mse = np.mean((yhat - y) ** 2)\n",
    "\n",
    "        # Scatter points\n",
    "        ax.scatter(x, y, alpha=0.85, label=\"data\")\n",
    "\n",
    "        # Regression line across current x-range\n",
    "        x_line = np.linspace(np.min(x), np.max(x), 200)\n",
    "        y_line = w_val * x_line + b_val\n",
    "        ax.plot(x_line, y_line, ls=\"--\", lw=2, label=r\"model $\\hat{y}=wx+b$\")\n",
    "\n",
    "        ax.set_title(f\"1D Linear Regression: MSE={mse:.3f} | w={w_val:.2f}, b={b_val:.2f}\")\n",
    "        ax.set_xlabel(\"x\")\n",
    "        ax.set_ylabel(\"y\")\n",
    "        ax.grid(True, alpha=0.3)\n",
    "        ax.legend(loc=\"best\")\n",
    "        plt.show()\n",
    "\n",
    "def on_regen_clicked(_):\n",
    "    global x, y\n",
    "    x, y = make_data(sep=sep.value, seed=seed.value)\n",
    "    # Redraw with current model params\n",
    "    draw(w.value, b.value)\n",
    "\n",
    "# Wire interactivity\n",
    "regen.on_click(on_regen_clicked)\n",
    "io = interactive_output(draw, {\"w_val\": w, \"b_val\": b})\n",
    "\n",
    "# Layout + initial render\n",
    "display(VBox([\n",
    "    HBox([w, b]),\n",
    "    HBox([sep, seed, regen]),\n",
    "    out\n",
    "]))\n",
    "draw(w.value, b.value)\n"
   ]
  },
  {
   "cell_type": "code",
   "execution_count": 13,
   "id": "fd4fbded-072b-48ae-b614-ceb964928724",
   "metadata": {},
   "outputs": [
    {
     "data": {
      "application/vnd.jupyter.widget-view+json": {
       "model_id": "e6d26d051a724346aecac2a6df5e9273",
       "version_major": 2,
       "version_minor": 0
      },
      "text/plain": [
       "VBox(children=(HBox(children=(FloatSlider(value=1.0, description='w', layout=Layout(width='300px'), max=10.0, …"
      ]
     },
     "metadata": {},
     "output_type": "display_data"
    }
   ],
   "source": [
    "# --- Data generation ---\n",
    "def make_data(n_per_class=60, sep=2.5, seed=0):\n",
    "    rng = np.random.default_rng(seed)\n",
    "    x0 = rng.normal(loc=-sep/2, scale=1.0, size=n_per_class)\n",
    "    x1 = rng.normal(loc= sep/2, scale=1.0, size=n_per_class)\n",
    "    x = np.concatenate([x0, x1])\n",
    "    y = np.concatenate([np.zeros_like(x0, dtype=int), np.ones_like(x1, dtype=int)])\n",
    "    y_plot = y + rng.normal(0, 0.03, size=y.shape)  # small vertical jitter for visibility\n",
    "    return x, y, y_plot\n",
    "\n",
    "def sigmoid(z):\n",
    "    return 1 / (1 + np.exp(-z))\n",
    "\n",
    "# --- Initial dataset ---\n",
    "x, y, y_plot = make_data(sep=2.5, seed=0)\n",
    "\n",
    "# --- Widgets ---\n",
    "w    = FloatSlider(value=1.0, min=-10, max=10, step=0.01, description=\"w\",   layout=Layout(width='300px'), continuous_update=True)\n",
    "b    = FloatSlider(value=0.0, min=-10, max=10, step=0.01, description=\"b\",   layout=Layout(width='300px'), continuous_update=True)\n",
    "sep  = FloatSlider(value=2.5, min=0.0, max=6.0, step=0.1, description=\"sep\", layout=Layout(width='300px'), continuous_update=False)\n",
    "seed = IntSlider(value=0, min=0, max=9999, step=1, description=\"seed\",       layout=Layout(width='300px'), continuous_update=False)\n",
    "mode = Dropdown(options=[(\"Sigmoid + 0.5\", \"sigmoid\"), (\"Hard step\", \"step\")],\n",
    "                value=\"sigmoid\", description=\"mode\", layout=Layout(width='220px'))\n",
    "regen = Button(description=\"Regenerate data\", layout=Layout(width='160px'))\n",
    "\n",
    "out = Output()\n",
    "\n",
    "def predict_labels(x_, w_, b_, mode_):\n",
    "    z = w_ * x_ + b_\n",
    "    if mode_ == \"sigmoid\":\n",
    "        return (sigmoid(z) >= 0.5).astype(int)\n",
    "    else:\n",
    "        return (z >= 0).astype(int)\n",
    "\n",
    "def draw(w, b, mode):\n",
    "    \"\"\"Rebuild the figure each time to avoid backend issues.\"\"\"\n",
    "    with out:\n",
    "        out.clear_output(wait=True)\n",
    "        fig, ax = plt.subplots(figsize=(7.5, 4.5))\n",
    "\n",
    "        # Predictions/metrics\n",
    "        yhat = predict_labels(x, w, b, mode)\n",
    "        acc = (yhat == y).mean()\n",
    "\n",
    "        # Scatter\n",
    "        ax.scatter(x[y==0], y_plot[y==0], label=\"class 0\", alpha=0.85)\n",
    "        ax.scatter(x[y==1], y_plot[y==1], label=\"class 1\", alpha=0.85)\n",
    "\n",
    "        # Decision boundary x = -b/w (if defined)\n",
    "        if abs(w) > 1e-8:\n",
    "            xb = -b / w\n",
    "            ax.axvline(xb, ls=\"--\", lw=2, label=\"decision boundary x=-b/w\")\n",
    "\n",
    "        ax.set_title(f\"1D Perceptron ({'sigmoid' if mode=='sigmoid' else 'step'}): \"\n",
    "                     f\"accuracy={acc*100:.1f}% | w={w:.2f}, b={b:.2f}\")\n",
    "        ax.set_xlabel(\"feature x\")\n",
    "        ax.set_ylabel(\"class (with jitter)\")\n",
    "        ax.grid(True, alpha=0.3)\n",
    "        ax.legend(loc=\"best\")\n",
    "        plt.show()\n",
    "\n",
    "def on_regen_clicked(_):\n",
    "    global x, y, y_plot\n",
    "    x, y, y_plot = make_data(sep=sep.value, seed=seed.value)\n",
    "    # Trigger a redraw with current w/b/mode\n",
    "    draw(w.value, b.value, mode.value)\n",
    "\n",
    "# Wire interactivity\n",
    "regen.on_click(on_regen_clicked)\n",
    "io = interactive_output(draw, {\"w\": w, \"b\": b, \"mode\": mode})\n",
    "\n",
    "# Layout + initial render\n",
    "display(VBox([\n",
    "    HBox([w, b]),\n",
    "    HBox([sep, seed, regen]),\n",
    "    mode,\n",
    "    out\n",
    "]))\n",
    "draw(w.value, b.value, mode.value)\n"
   ]
  },
  {
   "cell_type": "code",
   "execution_count": null,
   "id": "ea0b106d-645c-45d2-ad4b-a6e860920e2e",
   "metadata": {},
   "outputs": [],
   "source": []
  }
 ],
 "metadata": {
  "kernelspec": {
   "display_name": "Python 3 (ipykernel)",
   "language": "python",
   "name": "python3"
  },
  "language_info": {
   "codemirror_mode": {
    "name": "ipython",
    "version": 3
   },
   "file_extension": ".py",
   "mimetype": "text/x-python",
   "name": "python",
   "nbconvert_exporter": "python",
   "pygments_lexer": "ipython3",
   "version": "3.11.7"
  }
 },
 "nbformat": 4,
 "nbformat_minor": 5
}
